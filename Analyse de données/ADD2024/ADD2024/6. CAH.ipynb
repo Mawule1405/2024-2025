{
 "cells": [
  {
   "cell_type": "code",
   "execution_count": null,
   "id": "d363cd34",
   "metadata": {},
   "outputs": [],
   "source": [
    "from matplotlib import pyplot as plt\n",
    "import pandas as pd\n",
    "from scipy.cluster.hierarchy import dendrogram, linkage\n",
    "import scipy\n"
   ]
  },
  {
   "cell_type": "code",
   "execution_count": null,
   "id": "fa291822",
   "metadata": {},
   "outputs": [],
   "source": [
    "df = pd.read_excel(\"données/kvoisins.xlsx\",sheet_name=\"classi\",index_col=0)\n",
    "df"
   ]
  },
  {
   "cell_type": "code",
   "execution_count": null,
   "id": "46fc1cbb",
   "metadata": {},
   "outputs": [],
   "source": [
    "Z = linkage(df,method='ward',metric='euclidean')\n",
    "#affichage du dendrogramme\n",
    "fig = plt.figure(figsize=(30, 30))\n",
    "plt.title(\"CAH\")\n",
    "dendrogram(Z,labels=df.index)\n",
    "plt.show()\n"
   ]
  },
  {
   "cell_type": "code",
   "execution_count": null,
   "id": "365034e0",
   "metadata": {},
   "outputs": [],
   "source": []
  },
  {
   "cell_type": "code",
   "execution_count": null,
   "id": "acf2e9f7",
   "metadata": {},
   "outputs": [],
   "source": [
    "df = pd.read_excel(\"données/kvoisins.xlsx\",sheet_name=\"etudiants\",index_col=0)\n",
    "df"
   ]
  },
  {
   "cell_type": "code",
   "execution_count": null,
   "id": "33b9f3ed",
   "metadata": {},
   "outputs": [],
   "source": [
    "Z = linkage(df,method='ward',metric='euclidean')\n",
    "#affichage du dendrogramme\n",
    "fig = plt.figure(figsize=(30, 30))\n",
    "plt.title(\"CAH\")\n",
    "dendrogram(Z,labels=df.index)\n",
    "plt.show()"
   ]
  },
  {
   "cell_type": "markdown",
   "id": "05348e63",
   "metadata": {},
   "source": [
    "# SKlearn"
   ]
  },
  {
   "cell_type": "code",
   "execution_count": null,
   "id": "c67b605d",
   "metadata": {},
   "outputs": [],
   "source": [
    "import numpy as np\n",
    "import matplotlib.pyplot as plt\n",
    "from scipy.cluster.hierarchy import dendrogram, linkage\n",
    "from sklearn.cluster import AgglomerativeClustering"
   ]
  },
  {
   "cell_type": "code",
   "execution_count": null,
   "id": "19b163ff",
   "metadata": {},
   "outputs": [],
   "source": [
    "x = [4, 5, 10, 4, 3, 11, 14 , 6, 10, 12]\n",
    "y = [21, 19, 24, 17, 16, 25, 24, 22, 21, 21]"
   ]
  },
  {
   "cell_type": "code",
   "execution_count": null,
   "id": "ff1c4fd8",
   "metadata": {},
   "outputs": [],
   "source": [
    "data = list(zip(x, y))\n",
    "print(data)"
   ]
  },
  {
   "cell_type": "code",
   "execution_count": null,
   "id": "8911b19a",
   "metadata": {},
   "outputs": [],
   "source": [
    "CAH = linkage(data, method='ward', metric='euclidean')"
   ]
  },
  {
   "cell_type": "code",
   "execution_count": null,
   "id": "14ee0f9f",
   "metadata": {},
   "outputs": [],
   "source": [
    "dendrogram(CAH)\n",
    "plt.show()"
   ]
  },
  {
   "cell_type": "code",
   "execution_count": null,
   "id": "920bb482",
   "metadata": {},
   "outputs": [],
   "source": [
    "hierarchical_cluster = AgglomerativeClustering(n_clusters=2, metric='euclidean', linkage='ward')"
   ]
  },
  {
   "cell_type": "code",
   "execution_count": null,
   "id": "7be4a5a0",
   "metadata": {},
   "outputs": [],
   "source": [
    "labels = hierarchical_cluster.fit_predict(data)\n",
    "print(labels)"
   ]
  },
  {
   "cell_type": "code",
   "execution_count": null,
   "id": "9fc10f84",
   "metadata": {},
   "outputs": [],
   "source": [
    "plt.scatter(x, y, c=labels)\n",
    "plt.show()"
   ]
  },
  {
   "cell_type": "code",
   "execution_count": null,
   "id": "104a667c",
   "metadata": {},
   "outputs": [],
   "source": [
    "hierarchical_cluster.fit_predict([(9,25),(4,18),(10,20)])"
   ]
  },
  {
   "cell_type": "code",
   "execution_count": null,
   "id": "9aa7f12c",
   "metadata": {},
   "outputs": [],
   "source": []
  }
 ],
 "metadata": {
  "kernelspec": {
   "display_name": "Python 3 (ipykernel)",
   "language": "python",
   "name": "python3"
  },
  "language_info": {
   "codemirror_mode": {
    "name": "ipython",
    "version": 3
   },
   "file_extension": ".py",
   "mimetype": "text/x-python",
   "name": "python",
   "nbconvert_exporter": "python",
   "pygments_lexer": "ipython3",
   "version": "3.10.9"
  }
 },
 "nbformat": 4,
 "nbformat_minor": 5
}
