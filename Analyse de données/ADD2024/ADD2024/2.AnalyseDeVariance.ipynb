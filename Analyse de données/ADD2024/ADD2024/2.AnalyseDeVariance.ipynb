{
 "cells": [
  {
   "cell_type": "code",
   "execution_count": 3,
   "id": "28d4dee8",
   "metadata": {},
   "outputs": [],
   "source": [
    "import pandas as pd\n",
    "import statsmodels.formula.api\n",
    "import statsmodels.api\n",
    "from scipy.stats.distributions import f\n",
    "import matplotlib.pyplot as plt"
   ]
  },
  {
   "cell_type": "code",
   "execution_count": 4,
   "id": "6fac44fc",
   "metadata": {},
   "outputs": [
    {
     "data": {
      "text/html": [
       "<div>\n",
       "<style scoped>\n",
       "    .dataframe tbody tr th:only-of-type {\n",
       "        vertical-align: middle;\n",
       "    }\n",
       "\n",
       "    .dataframe tbody tr th {\n",
       "        vertical-align: top;\n",
       "    }\n",
       "\n",
       "    .dataframe thead th {\n",
       "        text-align: right;\n",
       "    }\n",
       "</style>\n",
       "<table border=\"1\" class=\"dataframe\">\n",
       "  <thead>\n",
       "    <tr style=\"text-align: right;\">\n",
       "      <th></th>\n",
       "      <th>E1</th>\n",
       "      <th>E2</th>\n",
       "      <th>E3</th>\n",
       "      <th>E4</th>\n",
       "    </tr>\n",
       "  </thead>\n",
       "  <tbody>\n",
       "    <tr>\n",
       "      <th>0</th>\n",
       "      <td>15</td>\n",
       "      <td>20</td>\n",
       "      <td>105</td>\n",
       "      <td>39</td>\n",
       "    </tr>\n",
       "    <tr>\n",
       "      <th>1</th>\n",
       "      <td>18</td>\n",
       "      <td>90</td>\n",
       "      <td>30</td>\n",
       "      <td>16</td>\n",
       "    </tr>\n",
       "    <tr>\n",
       "      <th>2</th>\n",
       "      <td>19</td>\n",
       "      <td>45</td>\n",
       "      <td>26</td>\n",
       "      <td>120</td>\n",
       "    </tr>\n",
       "    <tr>\n",
       "      <th>3</th>\n",
       "      <td>9</td>\n",
       "      <td>15</td>\n",
       "      <td>10</td>\n",
       "      <td>24</td>\n",
       "    </tr>\n",
       "  </tbody>\n",
       "</table>\n",
       "</div>"
      ],
      "text/plain": [
       "   E1  E2   E3   E4\n",
       "0  15  20  105   39\n",
       "1  18  90   30   16\n",
       "2  19  45   26  120\n",
       "3   9  15   10   24"
      ]
     },
     "execution_count": 4,
     "metadata": {},
     "output_type": "execute_result"
    }
   ],
   "source": [
    "av= pd.read_excel(\"données/tdadd.xlsx\", sheet_name=\"exo11\")\n",
    "av.head()"
   ]
  },
  {
   "cell_type": "code",
   "execution_count": 5,
   "id": "fc8884b4",
   "metadata": {},
   "outputs": [
    {
     "data": {
      "text/html": [
       "<div>\n",
       "<style scoped>\n",
       "    .dataframe tbody tr th:only-of-type {\n",
       "        vertical-align: middle;\n",
       "    }\n",
       "\n",
       "    .dataframe tbody tr th {\n",
       "        vertical-align: top;\n",
       "    }\n",
       "\n",
       "    .dataframe thead th {\n",
       "        text-align: right;\n",
       "    }\n",
       "</style>\n",
       "<table border=\"1\" class=\"dataframe\">\n",
       "  <thead>\n",
       "    <tr style=\"text-align: right;\">\n",
       "      <th></th>\n",
       "      <th>variable</th>\n",
       "      <th>value</th>\n",
       "    </tr>\n",
       "  </thead>\n",
       "  <tbody>\n",
       "    <tr>\n",
       "      <th>0</th>\n",
       "      <td>E1</td>\n",
       "      <td>15</td>\n",
       "    </tr>\n",
       "    <tr>\n",
       "      <th>1</th>\n",
       "      <td>E1</td>\n",
       "      <td>18</td>\n",
       "    </tr>\n",
       "    <tr>\n",
       "      <th>2</th>\n",
       "      <td>E1</td>\n",
       "      <td>19</td>\n",
       "    </tr>\n",
       "    <tr>\n",
       "      <th>3</th>\n",
       "      <td>E1</td>\n",
       "      <td>9</td>\n",
       "    </tr>\n",
       "    <tr>\n",
       "      <th>4</th>\n",
       "      <td>E2</td>\n",
       "      <td>20</td>\n",
       "    </tr>\n",
       "    <tr>\n",
       "      <th>5</th>\n",
       "      <td>E2</td>\n",
       "      <td>90</td>\n",
       "    </tr>\n",
       "    <tr>\n",
       "      <th>6</th>\n",
       "      <td>E2</td>\n",
       "      <td>45</td>\n",
       "    </tr>\n",
       "    <tr>\n",
       "      <th>7</th>\n",
       "      <td>E2</td>\n",
       "      <td>15</td>\n",
       "    </tr>\n",
       "    <tr>\n",
       "      <th>8</th>\n",
       "      <td>E3</td>\n",
       "      <td>105</td>\n",
       "    </tr>\n",
       "    <tr>\n",
       "      <th>9</th>\n",
       "      <td>E3</td>\n",
       "      <td>30</td>\n",
       "    </tr>\n",
       "    <tr>\n",
       "      <th>10</th>\n",
       "      <td>E3</td>\n",
       "      <td>26</td>\n",
       "    </tr>\n",
       "    <tr>\n",
       "      <th>11</th>\n",
       "      <td>E3</td>\n",
       "      <td>10</td>\n",
       "    </tr>\n",
       "    <tr>\n",
       "      <th>12</th>\n",
       "      <td>E4</td>\n",
       "      <td>39</td>\n",
       "    </tr>\n",
       "    <tr>\n",
       "      <th>13</th>\n",
       "      <td>E4</td>\n",
       "      <td>16</td>\n",
       "    </tr>\n",
       "    <tr>\n",
       "      <th>14</th>\n",
       "      <td>E4</td>\n",
       "      <td>120</td>\n",
       "    </tr>\n",
       "    <tr>\n",
       "      <th>15</th>\n",
       "      <td>E4</td>\n",
       "      <td>24</td>\n",
       "    </tr>\n",
       "  </tbody>\n",
       "</table>\n",
       "</div>"
      ],
      "text/plain": [
       "   variable  value\n",
       "0        E1     15\n",
       "1        E1     18\n",
       "2        E1     19\n",
       "3        E1      9\n",
       "4        E2     20\n",
       "5        E2     90\n",
       "6        E2     45\n",
       "7        E2     15\n",
       "8        E3    105\n",
       "9        E3     30\n",
       "10       E3     26\n",
       "11       E3     10\n",
       "12       E4     39\n",
       "13       E4     16\n",
       "14       E4    120\n",
       "15       E4     24"
      ]
     },
     "execution_count": 5,
     "metadata": {},
     "output_type": "execute_result"
    }
   ],
   "source": [
    "av=av.melt()\n",
    "av"
   ]
  },
  {
   "cell_type": "code",
   "execution_count": 6,
   "id": "fbb80196",
   "metadata": {},
   "outputs": [
    {
     "data": {
      "text/html": [
       "<div>\n",
       "<style scoped>\n",
       "    .dataframe tbody tr th:only-of-type {\n",
       "        vertical-align: middle;\n",
       "    }\n",
       "\n",
       "    .dataframe tbody tr th {\n",
       "        vertical-align: top;\n",
       "    }\n",
       "\n",
       "    .dataframe thead th {\n",
       "        text-align: right;\n",
       "    }\n",
       "</style>\n",
       "<table border=\"1\" class=\"dataframe\">\n",
       "  <thead>\n",
       "    <tr style=\"text-align: right;\">\n",
       "      <th></th>\n",
       "      <th>df</th>\n",
       "      <th>sum_sq</th>\n",
       "      <th>mean_sq</th>\n",
       "      <th>F</th>\n",
       "      <th>PR(&gt;F)</th>\n",
       "    </tr>\n",
       "  </thead>\n",
       "  <tbody>\n",
       "    <tr>\n",
       "      <th>variable</th>\n",
       "      <td>3.0</td>\n",
       "      <td>2790.6875</td>\n",
       "      <td>930.229167</td>\n",
       "      <td>0.705198</td>\n",
       "      <td>0.567055</td>\n",
       "    </tr>\n",
       "    <tr>\n",
       "      <th>Residual</th>\n",
       "      <td>12.0</td>\n",
       "      <td>15829.2500</td>\n",
       "      <td>1319.104167</td>\n",
       "      <td>NaN</td>\n",
       "      <td>NaN</td>\n",
       "    </tr>\n",
       "  </tbody>\n",
       "</table>\n",
       "</div>"
      ],
      "text/plain": [
       "            df      sum_sq      mean_sq         F    PR(>F)\n",
       "variable   3.0   2790.6875   930.229167  0.705198  0.567055\n",
       "Residual  12.0  15829.2500  1319.104167       NaN       NaN"
      ]
     },
     "execution_count": 6,
     "metadata": {},
     "output_type": "execute_result"
    }
   ],
   "source": [
    "fit = statsmodels.formula.api.ols('value ~ variable', data = av).fit()\n",
    "avr = statsmodels.api.stats.anova_lm(fit)\n",
    "avr"
   ]
  },
  {
   "cell_type": "code",
   "execution_count": 7,
   "id": "b7ba734f",
   "metadata": {},
   "outputs": [
    {
     "name": "stdout",
     "output_type": "stream",
     "text": [
      "dda= 3.0 \n",
      "ddw= 12.0 \n",
      "Fo= 0.705 \n",
      "Pvalue= 0.567\n"
     ]
    }
   ],
   "source": [
    "fo=avr['F'][0]\n",
    "ddla=avr['df'][0]\n",
    "ddlw=avr['df'][1]\n",
    "pvalue=avr['PR(>F)'][0]\n",
    "print(\"dda=\",ddla,\"\\nddw=\",ddlw,\"\\nFo=\",round(fo,3),'\\nPvalue=',round(pvalue,3))"
   ]
  },
  {
   "cell_type": "code",
   "execution_count": 8,
   "id": "ecdd3bf7",
   "metadata": {},
   "outputs": [
    {
     "name": "stdout",
     "output_type": "stream",
     "text": [
      "Donnez le risque Alpha:0.05\n",
      "\n",
      "F0= 0.705\n",
      "Fc= 3.49\n",
      "0.705 <= 3.49 alors H0 est acceptée\n"
     ]
    }
   ],
   "source": [
    "alpha=float(input('Donnez le risque Alpha:'))\n",
    "\n",
    "Fc=f.ppf(1-alpha, ddla,ddlw)\n",
    "print(\"\\nF0=\",round(fo,3))\n",
    "print(\"Fc=\",round(Fc,3))\n",
    "if fo<= Fc:\n",
    "    print(round(fo,3), \"<=\",round(Fc,3),\"alors H0 est acceptée\")\n",
    "else:\n",
    "    print(round(fo,3), \">\",round(Fc,3),\"H0 est rejetée\")"
   ]
  },
  {
   "cell_type": "code",
   "execution_count": 9,
   "id": "eefaf809",
   "metadata": {},
   "outputs": [
    {
     "name": "stdout",
     "output_type": "stream",
     "text": [
      "Donnez le risque Alpha:0.05\n",
      "\n",
      "\n",
      "             df      sum_sq      mean_sq         F    PR(>F)\n",
      "variable   3.0   2790.6875   930.229167  0.705198  0.567055\n",
      "Residual  12.0  15829.2500  1319.104167       NaN       NaN \n",
      "\n",
      "\n",
      "dda= 3.0 \n",
      "ddw= 12.0 \n",
      "Fo= 0.705 \n",
      "Pvalue= 0.567\n",
      "\n",
      "D= 3.49\n",
      "0.705 <= 3.49 alors H0 est acceptée\n"
     ]
    }
   ],
   "source": [
    "av= pd.read_excel(\"données/tdadd.xlsx\", sheet_name=\"exo11\")\n",
    "alpha=float(input('Donnez le risque Alpha:'))\n",
    "av.head()\n",
    "av=av.melt()\n",
    "fit = statsmodels.formula.api.ols('value ~ variable', data = av).fit()\n",
    "avr = statsmodels.api.stats.anova_lm(fit)\n",
    "print(\"\\n\\n\",avr,'\\n\\n')\n",
    "fo=avr['F'][0]\n",
    "ddla=avr['df'][0]\n",
    "ddlw=avr['df'][1]\n",
    "pvalue=avr['PR(>F)'][0]\n",
    "print(\"dda=\",ddla,\"\\nddw=\",ddlw,\"\\nFo=\",round(fo,3),'\\nPvalue=',round(pvalue,3))\n",
    "D=f.ppf(1-alpha, ddla,ddlw)\n",
    "print(\"\\nD=\",round(D,3))\n",
    "if fo<= D:\n",
    "    print(round(fo,3), \"<=\",round(D,3),\"alors H0 est acceptée\")\n",
    "else:\n",
    "    print(round(fo,3), \">\",round(D,3),\"H0 est rejetée\")\n"
   ]
  },
  {
   "cell_type": "code",
   "execution_count": 12,
   "id": "87a6c094",
   "metadata": {},
   "outputs": [],
   "source": [
    "def monav(fichier=\"application\", feuille=\"AV1\", alpha=0.05):\n",
    "    av= pd.read_excel(\"données/\"+ fichier + \".xlsx\", sheet_name=feuille)\n",
    "    print(\"\\n\\n\", av)\n",
    "    av=av.melt()\n",
    "    fit = statsmodels.formula.api.ols('value ~ variable', data = av).fit()\n",
    "    avr = statsmodels.api.stats.anova_lm(fit)\n",
    "    print(\"\\n\\n\",avr)\n",
    "    fo=avr['F'][0]\n",
    "    ddla=avr['df'][0]\n",
    "    ddlw=avr['df'][1]\n",
    "    pvalue=avr['PR(>F)'][0]\n",
    "    print(\"\\n\\ndda=\",ddla,\"\\nddw=\",ddlw,\"\\nFo=\",round(fo,3),'\\nPvalue=',round(pvalue,3))\n",
    "\n",
    "    D=f.ppf(1-alpha, ddla,ddlw)\n",
    "\n",
    "    print(\"\\nD=\",round(D,3))\n",
    "\n",
    "    if fo<= D:\n",
    "        print(round(fo,3), \"<=\",round(D,3),\"alors H0 est acceptée\")\n",
    "    else:\n",
    "        print(round(fo,3), \">\",round(D,3),\"H0 est rejetée\")\n",
    "\n",
    "    "
   ]
  },
  {
   "cell_type": "code",
   "execution_count": 13,
   "id": "6ae346a4",
   "metadata": {},
   "outputs": [
    {
     "name": "stdout",
     "output_type": "stream",
     "text": [
      "\n",
      "\n",
      "    L1  L2  L3  L4\n",
      "0  15  15  15  15\n",
      "1  25  12  12  16\n",
      "2  16  15  24  20\n",
      "3   9  15  10  24\n",
      "\n",
      "\n",
      "             df  sum_sq    mean_sq         F    PR(>F)\n",
      "variable   3.0   44.75  14.916667  0.590759  0.632761\n",
      "Residual  12.0  303.00  25.250000       NaN       NaN\n",
      "\n",
      "\n",
      "dda= 3.0 \n",
      "ddw= 12.0 \n",
      "Fo= 0.591 \n",
      "Pvalue= 0.633\n",
      "\n",
      "D= 3.49\n",
      "0.591 <= 3.49 alors H0 est acceptée\n"
     ]
    }
   ],
   "source": [
    "monav()"
   ]
  },
  {
   "cell_type": "code",
   "execution_count": 14,
   "id": "3c845065",
   "metadata": {},
   "outputs": [
    {
     "name": "stdout",
     "output_type": "stream",
     "text": [
      "\n",
      "\n",
      "         X      Y          Z\n",
      "0   16.00  17.50  17.000000\n",
      "1   19.00  18.00  18.333333\n",
      "2   14.00  18.25  16.833333\n",
      "3   17.00  13.00  14.333333\n",
      "4   14.00  15.50  15.000000\n",
      "5   13.00  13.00  13.000000\n",
      "6   13.00  11.00  11.666667\n",
      "7   14.00  17.00  16.000000\n",
      "8   14.00  17.00  16.000000\n",
      "9   12.00  17.00  15.333333\n",
      "10  13.00  15.00  14.333333\n",
      "11  14.50  17.00  16.166667\n",
      "12  18.25  18.75  18.583333\n",
      "13  18.25  13.00  14.750000\n",
      "14  14.00  18.00  16.666667\n",
      "15  18.00  19.50  19.000000\n",
      "16  18.75  19.00  18.916667\n",
      "17  12.00  16.50  15.000000\n",
      "18  16.50  16.00  16.166667\n",
      "19  16.50  16.00  16.166667\n",
      "\n",
      "\n",
      "             df     sum_sq   mean_sq         F    PR(>F)\n",
      "variable   2.0   10.63125  5.315625  1.112837  0.335659\n",
      "Residual  57.0  272.26875  4.776645       NaN       NaN\n",
      "\n",
      "\n",
      "dda= 2.0 \n",
      "ddw= 57.0 \n",
      "Fo= 1.113 \n",
      "Pvalue= 0.336\n",
      "\n",
      "D= 3.159\n",
      "1.113 <= 3.159 alors H0 est acceptée\n"
     ]
    }
   ],
   "source": [
    "monav(feuille=\"AV3\")"
   ]
  },
  {
   "cell_type": "markdown",
   "id": "03a73091",
   "metadata": {},
   "source": [
    "# La table de Fisher Snedecor  pour l'Analyse de variance"
   ]
  },
  {
   "cell_type": "code",
   "execution_count": 18,
   "id": "2a07fb3a",
   "metadata": {},
   "outputs": [
    {
     "name": "stdout",
     "output_type": "stream",
     "text": [
      "Alpha=0.05\t1\t2\t3\t4\t5\t6\t7\t8\t9\t10\t11\t12\t13\t14\t15\t\n",
      "\t-------------------------------------------------------------------------------------------------------------\n",
      "\n",
      "1\t161.448\t199.5\t215.707\t224.583\t230.162\t233.986\t236.768\t238.883\t240.543\t241.882\t242.983\t243.906\t244.69\t245.364\t245.95\t\n",
      "2\t18.513\t19.0\t19.164\t19.247\t19.296\t19.33\t19.353\t19.371\t19.385\t19.396\t19.405\t19.413\t19.419\t19.424\t19.429\t\n",
      "3\t10.128\t9.552\t9.277\t9.117\t9.013\t8.941\t8.887\t8.845\t8.812\t8.786\t8.763\t8.745\t8.729\t8.715\t8.703\t\n",
      "4\t7.709\t6.944\t6.591\t6.388\t6.256\t6.163\t6.094\t6.041\t5.999\t5.964\t5.936\t5.912\t5.891\t5.873\t5.858\t\n",
      "5\t6.608\t5.786\t5.409\t5.192\t5.05\t4.95\t4.876\t4.818\t4.772\t4.735\t4.704\t4.678\t4.655\t4.636\t4.619\t\n",
      "6\t5.987\t5.143\t4.757\t4.534\t4.387\t4.284\t4.207\t4.147\t4.099\t4.06\t4.027\t4.0\t3.976\t3.956\t3.938\t\n",
      "7\t5.591\t4.737\t4.347\t4.12\t3.972\t3.866\t3.787\t3.726\t3.677\t3.637\t3.603\t3.575\t3.55\t3.529\t3.511\t\n",
      "8\t5.318\t4.459\t4.066\t3.838\t3.687\t3.581\t3.5\t3.438\t3.388\t3.347\t3.313\t3.284\t3.259\t3.237\t3.218\t\n",
      "9\t5.117\t4.256\t3.863\t3.633\t3.482\t3.374\t3.293\t3.23\t3.179\t3.137\t3.102\t3.073\t3.048\t3.025\t3.006\t\n",
      "10\t4.965\t4.103\t3.708\t3.478\t3.326\t3.217\t3.135\t3.072\t3.02\t2.978\t2.943\t2.913\t2.887\t2.865\t2.845\t\n",
      "11\t4.844\t3.982\t3.587\t3.357\t3.204\t3.095\t3.012\t2.948\t2.896\t2.854\t2.818\t2.788\t2.761\t2.739\t2.719\t\n",
      "12\t4.747\t3.885\t3.49\t3.259\t3.106\t2.996\t2.913\t2.849\t2.796\t2.753\t2.717\t2.687\t2.66\t2.637\t2.617\t\n",
      "13\t4.667\t3.806\t3.411\t3.179\t3.025\t2.915\t2.832\t2.767\t2.714\t2.671\t2.635\t2.604\t2.577\t2.554\t2.533\t\n",
      "14\t4.6\t3.739\t3.344\t3.112\t2.958\t2.848\t2.764\t2.699\t2.646\t2.602\t2.565\t2.534\t2.507\t2.484\t2.463\t\n",
      "15\t4.543\t3.682\t3.287\t3.056\t2.901\t2.79\t2.707\t2.641\t2.588\t2.544\t2.507\t2.475\t2.448\t2.424\t2.403\t\n",
      "16\t4.494\t3.634\t3.239\t3.007\t2.852\t2.741\t2.657\t2.591\t2.538\t2.494\t2.456\t2.425\t2.397\t2.373\t2.352\t\n",
      "17\t4.451\t3.592\t3.197\t2.965\t2.81\t2.699\t2.614\t2.548\t2.494\t2.45\t2.413\t2.381\t2.353\t2.329\t2.308\t\n",
      "18\t4.414\t3.555\t3.16\t2.928\t2.773\t2.661\t2.577\t2.51\t2.456\t2.412\t2.374\t2.342\t2.314\t2.29\t2.269\t\n",
      "19\t4.381\t3.522\t3.127\t2.895\t2.74\t2.628\t2.544\t2.477\t2.423\t2.378\t2.34\t2.308\t2.28\t2.256\t2.234\t\n",
      "20\t4.351\t3.493\t3.098\t2.866\t2.711\t2.599\t2.514\t2.447\t2.393\t2.348\t2.31\t2.278\t2.25\t2.225\t2.203\t\n",
      "21\t4.325\t3.467\t3.072\t2.84\t2.685\t2.573\t2.488\t2.42\t2.366\t2.321\t2.283\t2.25\t2.222\t2.197\t2.176\t\n",
      "22\t4.301\t3.443\t3.049\t2.817\t2.661\t2.549\t2.464\t2.397\t2.342\t2.297\t2.259\t2.226\t2.198\t2.173\t2.151\t\n",
      "23\t4.279\t3.422\t3.028\t2.796\t2.64\t2.528\t2.442\t2.375\t2.32\t2.275\t2.236\t2.204\t2.175\t2.15\t2.128\t\n",
      "24\t4.26\t3.403\t3.009\t2.776\t2.621\t2.508\t2.423\t2.355\t2.3\t2.255\t2.216\t2.183\t2.155\t2.13\t2.108\t\n",
      "25\t4.242\t3.385\t2.991\t2.759\t2.603\t2.49\t2.405\t2.337\t2.282\t2.236\t2.198\t2.165\t2.136\t2.111\t2.089\t\n",
      "26\t4.225\t3.369\t2.975\t2.743\t2.587\t2.474\t2.388\t2.321\t2.265\t2.22\t2.181\t2.148\t2.119\t2.094\t2.072\t\n",
      "27\t4.21\t3.354\t2.96\t2.728\t2.572\t2.459\t2.373\t2.305\t2.25\t2.204\t2.166\t2.132\t2.103\t2.078\t2.056\t\n",
      "28\t4.196\t3.34\t2.947\t2.714\t2.558\t2.445\t2.359\t2.291\t2.236\t2.19\t2.151\t2.118\t2.089\t2.064\t2.041\t\n",
      "29\t4.183\t3.328\t2.934\t2.701\t2.545\t2.432\t2.346\t2.278\t2.223\t2.177\t2.138\t2.104\t2.075\t2.05\t2.027\t\n",
      "30\t4.171\t3.316\t2.922\t2.69\t2.534\t2.421\t2.334\t2.266\t2.211\t2.165\t2.126\t2.092\t2.063\t2.037\t2.015\t\n"
     ]
    }
   ],
   "source": [
    "print(\"Alpha=\",alpha, sep=\"\",end=\"\\t\")\n",
    "for j in range(1,16):\n",
    "     print(j, end=\"\\t\")\n",
    "\n",
    "print()\n",
    "print(\"\\t-------------------------------------------------------------------------------------------------------------\\n\")\n",
    "\n",
    "for i in range(1,31):\n",
    "    print(i, end=\"\\t\")\n",
    "    for j in range(1,16):\n",
    "       \n",
    "        print(round(f.ppf(1-alpha, j,i),3), end=\"\\t\")\n",
    "    print()\n"
   ]
  },
  {
   "cell_type": "code",
   "execution_count": null,
   "id": "6223e1df",
   "metadata": {},
   "outputs": [],
   "source": []
  }
 ],
 "metadata": {
  "kernelspec": {
   "display_name": "Python 3 (ipykernel)",
   "language": "python",
   "name": "python3"
  },
  "language_info": {
   "codemirror_mode": {
    "name": "ipython",
    "version": 3
   },
   "file_extension": ".py",
   "mimetype": "text/x-python",
   "name": "python",
   "nbconvert_exporter": "python",
   "pygments_lexer": "ipython3",
   "version": "3.10.9"
  }
 },
 "nbformat": 4,
 "nbformat_minor": 5
}
