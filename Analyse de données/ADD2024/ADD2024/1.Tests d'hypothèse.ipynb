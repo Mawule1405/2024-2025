{
 "cells": [
  {
   "cell_type": "markdown",
   "metadata": {},
   "source": [
    "# Statistique"
   ]
  },
  {
   "cell_type": "code",
   "execution_count": null,
   "metadata": {},
   "outputs": [],
   "source": [
    "from scipy import stats\n",
    "import numpy as np\n",
    "import pandas as pd\n",
    "from scipy.stats.distributions import t,norm\n",
    "import matplotlib.pyplot as plt"
   ]
  },
  {
   "cell_type": "code",
   "execution_count": null,
   "metadata": {},
   "outputs": [],
   "source": [
    "S=[1,1,2,2,3,3,3,3,4,4,5,5]"
   ]
  },
  {
   "cell_type": "code",
   "execution_count": null,
   "metadata": {},
   "outputs": [],
   "source": [
    "{i:S.count(i) for i in S}"
   ]
  },
  {
   "cell_type": "code",
   "execution_count": null,
   "metadata": {},
   "outputs": [],
   "source": [
    "stats.mode(S,keepdims=True)"
   ]
  },
  {
   "cell_type": "code",
   "execution_count": null,
   "metadata": {},
   "outputs": [],
   "source": [
    "Min=min(S)\n",
    "Max=max(S)\n",
    "M = np.mean(S)\n",
    "Me=np.median(S)\n",
    "Mo=stats.mode(S ,keepdims=True) # Scipy\n",
    "v=np.var(S)\n",
    "G=stats.gmean(S) # Scipy\n",
    "H=stats.hmean(S) # Scipy\n",
    "E=np.std(S)\n",
    "Moy=sum(S)/len(S)\n",
    "print(f\"Le Min={Min}\\nLe Max={Max}\\nLa moyenne G= {round(G,3)}\\nLa Moyenne M={Moy}\\nLa Moyenne H= {round(H,3)}\\nle Mode= {Mo}\\\n",
    "\\nLa moyenne = {round(M,3)}\\nLa Mediane Me= {round(Me,3)}\\nLa variance= {round(v,3)}\")\n",
    "\n",
    "print(\"L'ecart type=\",round(E,3))"
   ]
  },
  {
   "cell_type": "code",
   "execution_count": null,
   "metadata": {},
   "outputs": [],
   "source": [
    "stats.describe(S)"
   ]
  },
  {
   "cell_type": "markdown",
   "metadata": {},
   "source": [
    "# L'estimateur de la variance S²"
   ]
  },
  {
   "cell_type": "code",
   "execution_count": null,
   "metadata": {},
   "outputs": [],
   "source": [
    "# S² estimateur sans biais de la variance\n",
    "round(np.var(S,ddof=1),3)"
   ]
  },
  {
   "cell_type": "code",
   "execution_count": null,
   "metadata": {},
   "outputs": [],
   "source": [
    "# La viance \n",
    "round(np.var(S,ddof=0),3)"
   ]
  },
  {
   "cell_type": "markdown",
   "metadata": {},
   "source": [
    "# I. Test de conformité"
   ]
  },
  {
   "cell_type": "markdown",
   "metadata": {},
   "source": [
    "## 1. Comparaison d'une moyenne à une norme: T-test"
   ]
  },
  {
   "cell_type": "code",
   "execution_count": null,
   "metadata": {},
   "outputs": [],
   "source": [
    "S=[1,1,2,2,3,3,3,3,4,4,5,5]"
   ]
  },
  {
   "cell_type": "code",
   "execution_count": null,
   "metadata": {},
   "outputs": [],
   "source": [
    "S=[1,1,2,2,3,3,3,3,4,4,5,5]\n",
    "T0, pv=stats.ttest_1samp(S,2.3, axis=0)\n",
    "# décision avec Pvalueµ\n",
    "print(\"To=\",round(T0,3), \"\\nPvalue=\",round(pv,5))\n",
    "alpha=float(input('Donnez le risque Alpha:'))\n",
    "\n",
    "if pv>=alpha:\n",
    "    print(\"Ho est acceptée \")\n",
    "else:\n",
    "    print(\"Ho est rejetée \")   "
   ]
  },
  {
   "cell_type": "code",
   "execution_count": null,
   "metadata": {},
   "outputs": [],
   "source": [
    "# Deuxième décision"
   ]
  },
  {
   "cell_type": "code",
   "execution_count": null,
   "metadata": {},
   "outputs": [],
   "source": [
    "ddl=len(S)-1\n",
    "Tc=t.ppf(1-alpha/2, df=ddl)\n",
    "print(\"To=\",round(T0,3), \"\\nT critique=\",round(Tc,4))\n",
    "if abs(T0)<=Tc:\n",
    "    print(\"Ho est acceptée\")\n",
    "else:\n",
    "    print(\"Ho est rejetée\")"
   ]
  },
  {
   "cell_type": "markdown",
   "metadata": {},
   "source": [
    "## 2.Comparaison d'une moyenne à une norme: Z-Test"
   ]
  },
  {
   "cell_type": "code",
   "execution_count": null,
   "metadata": {},
   "outputs": [],
   "source": [
    "from statsmodels.stats.weightstats import ztest as ztest"
   ]
  },
  {
   "cell_type": "code",
   "execution_count": null,
   "metadata": {},
   "outputs": [],
   "source": [
    "Z0, pv=ztest(S, value=5) \n",
    "alpha=float(input('Donnez le risque Alpha:'))\n",
    "Zc=norm.ppf(1-alpha/2)\n",
    "print(\"Pvalue=\", round(pv,4))\n",
    "print(\"Z observée=\",round(Z0,3))\n",
    "print(\"Z critque=\",round(Zc,4) ) \n",
    "\n",
    "if abs(Z0)<=Zc:\n",
    "    print(\"Ho est acceptée\")\n",
    "else:\n",
    "    print(\"Ho est rejetée \")"
   ]
  },
  {
   "cell_type": "markdown",
   "metadata": {},
   "source": [
    "## 3. Comparaisond'une proportion"
   ]
  },
  {
   "cell_type": "code",
   "execution_count": null,
   "metadata": {},
   "outputs": [],
   "source": [
    "import numpy as np\n",
    "from statsmodels.stats.proportion import proportions_ztest"
   ]
  },
  {
   "cell_type": "code",
   "execution_count": null,
   "metadata": {},
   "outputs": [],
   "source": [
    "k = 8\n",
    "n = 17\n",
    "\n",
    "Z0, pval = proportions_ztest(k, n, value=0.3)\n",
    "print(\"La Pvalue\",round(pval,3))\n",
    "alpha=float(input('Donnez le risque Alpha:'))\n",
    "Zc=norm.ppf(1-alpha/2)\n",
    "print(\"Z observée=\",round(Z0,3))\n",
    "print(\"Z critque=\",round(Zc,4) ) \n",
    "\n",
    "if abs(Z0)<=Zc:\n",
    "    print(\"Ho est acceptée \")\n",
    "else:\n",
    "    print(\"Ho est rejetée \")"
   ]
  },
  {
   "cell_type": "code",
   "execution_count": null,
   "metadata": {},
   "outputs": [],
   "source": [
    "print((8/17-0.3)/np.sqrt(0.3*0.7/17))"
   ]
  },
  {
   "cell_type": "markdown",
   "metadata": {},
   "source": [
    "# II. Test d'homogénéité"
   ]
  },
  {
   "cell_type": "markdown",
   "metadata": {},
   "source": [
    "# # 1.Comparaison  de deux moyennes T-test"
   ]
  },
  {
   "cell_type": "code",
   "execution_count": null,
   "metadata": {},
   "outputs": [],
   "source": [
    "df= pd.read_excel(\"données/application.xlsx\", sheet_name=\"Ttest\")\n",
    "df"
   ]
  },
  {
   "cell_type": "code",
   "execution_count": null,
   "metadata": {},
   "outputs": [],
   "source": [
    "df.describe()"
   ]
  },
  {
   "cell_type": "code",
   "execution_count": null,
   "metadata": {},
   "outputs": [],
   "source": [
    "X=df.X\n",
    "Y=df.Y"
   ]
  },
  {
   "cell_type": "code",
   "execution_count": null,
   "metadata": {},
   "outputs": [],
   "source": [
    "T0,pv=stats.ttest_ind(X,Y)\n",
    "ddl=X.shape[0]+Y.shape[0]-2\n",
    "alpha=float(input('Donnez le risque Alpha:'))\n",
    "print(\"La Pvalue=\", round(pv,3))\n",
    "print(\"T observée=\", round(T0,3))\n",
    "print(\"Ddl=\",ddl)\n",
    "Tc=t.ppf(1-alpha/2, df=ddl)\n",
    "print(\"T critique=\",round(Tc,3) )  \n",
    "if abs(T0)<=Tc:\n",
    "    print(\"Ho est acceptée\")\n",
    "else:\n",
    "    print(\"Ho est rejetée \")"
   ]
  },
  {
   "cell_type": "markdown",
   "metadata": {},
   "source": [
    "# Table de Student Fisher  pour le test Bilatéral"
   ]
  },
  {
   "cell_type": "code",
   "execution_count": null,
   "metadata": {},
   "outputs": [],
   "source": [
    "print(\"Alpha\", end=\"\\t\")\n",
    "for j in [0.1,0.09,0.08,0.07,0.06,0.05,0.04,0.03,0.02,0.01]:\n",
    "     print(j, end=\"\\t\")\n",
    "\n",
    "print()\n",
    "print(\"\\t------------------------------------------------------------------------------\\n\")\n",
    "\n",
    "for i in range(1,31):\n",
    "    print(i, end=\"\\t\")\n",
    "    for j in [0.1,0.09,0.08,0.07,0.06,0.05,0.04,0.03,0.02,0.01]:\n",
    "       \n",
    "        print(round(t.ppf(1-j/2, df=i),3), end=\"\\t\")\n",
    "    print()\n"
   ]
  },
  {
   "cell_type": "code",
   "execution_count": null,
   "metadata": {},
   "outputs": [],
   "source": [
    "#Survival function\n",
    "p_value = t.sf(abs(T0), df=ddl) * 2 \n",
    "p_value"
   ]
  },
  {
   "cell_type": "code",
   "execution_count": null,
   "metadata": {},
   "outputs": [],
   "source": [
    "# Cumulative distribution function.\n",
    "t.cdf(T0,ddl)*2"
   ]
  },
  {
   "cell_type": "markdown",
   "metadata": {},
   "source": [
    "# Comparaison de deux  Moyennes avec  Z-test"
   ]
  },
  {
   "cell_type": "code",
   "execution_count": null,
   "metadata": {},
   "outputs": [],
   "source": [
    "from statsmodels.stats.weightstats import ztest as ztest"
   ]
  },
  {
   "cell_type": "code",
   "execution_count": null,
   "metadata": {},
   "outputs": [],
   "source": [
    "df= pd.read_excel(\"données/application.xlsx\", sheet_name=\"Ttest\")\n",
    "df"
   ]
  },
  {
   "cell_type": "code",
   "execution_count": null,
   "metadata": {},
   "outputs": [],
   "source": [
    "X=df.X\n",
    "Y=df.Y"
   ]
  },
  {
   "cell_type": "code",
   "execution_count": null,
   "metadata": {},
   "outputs": [],
   "source": [
    "X.describe()"
   ]
  },
  {
   "cell_type": "code",
   "execution_count": null,
   "metadata": {},
   "outputs": [],
   "source": [
    "Z0, pv=ztest(X, value=19) \n",
    "alpha=float(input('Donnez le risque Alpha:'))\n",
    "Zc=norm.ppf(1-alpha/2)\n",
    "print(\"La pvalue=\",round(pv,3))\n",
    "print(\"Z observée=\",round(Z0,3))\n",
    "print(\"Z critque=\",round(Zc,4) ) \n",
    "\n",
    "if abs(Z0)<=Zc:\n",
    "    print(\"Ho est acceptée\")\n",
    "else:\n",
    "    print(\"Ho est rejetée \")"
   ]
  },
  {
   "cell_type": "markdown",
   "metadata": {},
   "source": [
    "# La table du test Bilatéral"
   ]
  },
  {
   "cell_type": "code",
   "execution_count": null,
   "metadata": {},
   "outputs": [],
   "source": [
    "Lgn=np.arange(0,1,0.1)\n",
    "Lc=np.arange(0,0.1,0.01)"
   ]
  },
  {
   "cell_type": "code",
   "execution_count": null,
   "metadata": {},
   "outputs": [],
   "source": [
    "print(\"Alpha\", end=\"\\t\")\n",
    "for j in Lc:\n",
    "     print(j, end=\"\\t\")\n",
    "\n",
    "print()\n",
    "print(\"\\t------------------------------------------------------------------------------\\n\")\n",
    "\n",
    "for i in Lgn:\n",
    "    print(round(i,1), end=\"\\t\")\n",
    "    for j in Lc:\n",
    "       \n",
    "        print(round(norm.ppf(1-(i+j)/2),4), end=\"\\t\")\n",
    "    print()\n"
   ]
  },
  {
   "cell_type": "code",
   "execution_count": null,
   "metadata": {},
   "outputs": [],
   "source": [
    "df.describe()"
   ]
  },
  {
   "cell_type": "code",
   "execution_count": null,
   "metadata": {},
   "outputs": [],
   "source": [
    "# Comparaison de deux Moyennes avec Ztest\n",
    "Z0, pv=ztest(X, Y, value=0) \n",
    "alpha=float(input('Donnez le risque Alpha:'))\n",
    "Zc=norm.ppf(1-alpha/2)\n",
    "print(\"Z critque=\",round(Zc,4) ) \n",
    "print(\"Z observée=\",round(T0,3))\n",
    "if abs(T0)<=Tc:\n",
    "    print(\"Ho est acceptée \")\n",
    "else:\n",
    "    print(\"Ho est rejetée \")"
   ]
  },
  {
   "cell_type": "code",
   "execution_count": null,
   "metadata": {},
   "outputs": [],
   "source": [
    "#Comment calculez la pvalue\n",
    "\n",
    "p_value = norm.sf(abs(Z0)) * 2 \n",
    "p_value"
   ]
  },
  {
   "cell_type": "markdown",
   "metadata": {},
   "source": [
    "# Test d'homogéngéité pour deux fréquences"
   ]
  },
  {
   "cell_type": "code",
   "execution_count": null,
   "metadata": {},
   "outputs": [],
   "source": [
    "import numpy as np\n",
    "from statsmodels.stats.proportion import proportions_ztest\n"
   ]
  },
  {
   "cell_type": "code",
   "execution_count": null,
   "metadata": {},
   "outputs": [],
   "source": [
    "count = np.array([400, 300])\n",
    "nobs = np.array([500, 400])\n",
    "Z0, pv = proportions_ztest(count, nobs)\n",
    "alpha=float(input('Donnez le risque Alpha:'))\n",
    "Zc=norm.ppf(1-alpha/2)\n",
    "print(\"Pvalue=\", round(pv,4))\n",
    "print(\"Z observée=\",round(Z0,3))\n",
    "print(\"Z critque=\",round(Zc,4) ) \n",
    "\n",
    "if abs(Z0)<=Zc:\n",
    "    print(\"Ho est acceptée \")\n",
    "else:\n",
    "    print(\"Ho est rejetée \")\n"
   ]
  },
  {
   "cell_type": "markdown",
   "metadata": {},
   "source": [
    "# La table du test unilatéral"
   ]
  },
  {
   "cell_type": "code",
   "execution_count": null,
   "metadata": {},
   "outputs": [],
   "source": [
    "Lc=np.arange(0,0.1,0.01)\n",
    "Lgn=np.arange(0,3,0.1)"
   ]
  },
  {
   "cell_type": "code",
   "execution_count": null,
   "metadata": {},
   "outputs": [],
   "source": [
    "Lc"
   ]
  },
  {
   "cell_type": "code",
   "execution_count": null,
   "metadata": {},
   "outputs": [],
   "source": [
    "Lgn"
   ]
  },
  {
   "cell_type": "code",
   "execution_count": null,
   "metadata": {},
   "outputs": [],
   "source": [
    "print(\"Alpa\",end=\"\\t\")\n",
    "for j in Lc:\n",
    "     print(j, end=\"\\t\")\n",
    "\n",
    "print()\n",
    "print(\"\\t------------------------------------------------------------------------------\\n\")\n",
    "\n",
    "for i in Lgn:\n",
    "    print(round(i,1), end=\"\\t\")\n",
    "    for j in Lc:\n",
    "       \n",
    "        print(round(norm.cdf((i+j)),4), end=\"\\t\")\n",
    "    print()\n"
   ]
  },
  {
   "cell_type": "code",
   "execution_count": null,
   "metadata": {},
   "outputs": [],
   "source": [
    "import pandas as pd"
   ]
  },
  {
   "cell_type": "code",
   "execution_count": null,
   "metadata": {},
   "outputs": [],
   "source": [
    "df=pd.read_excel(\"données/fichiertd.xlsx\",sheet_name='exo10')\n",
    "df"
   ]
  },
  {
   "cell_type": "code",
   "execution_count": null,
   "metadata": {},
   "outputs": [],
   "source": [
    "df.describe()"
   ]
  },
  {
   "cell_type": "code",
   "execution_count": null,
   "metadata": {},
   "outputs": [],
   "source": [
    "df.var()"
   ]
  },
  {
   "cell_type": "code",
   "execution_count": null,
   "metadata": {},
   "outputs": [],
   "source": [
    "X=df.X"
   ]
  },
  {
   "cell_type": "code",
   "execution_count": null,
   "metadata": {},
   "outputs": [],
   "source": [
    "Y=df.Y"
   ]
  },
  {
   "cell_type": "code",
   "execution_count": null,
   "metadata": {},
   "outputs": [],
   "source": [
    "T0,pv=stats.ttest_ind(X,Y)\n",
    "ddl=X.shape[0]+Y.shape[0]-2\n",
    "alpha=float(input('Donnez le risque Alpha:'))\n",
    "print(\"La Pvalue=\", round(pv,3))\n",
    "print(\"T observée=\", round(T0,3))\n",
    "print(\"Ddl=\",ddl)\n",
    "Tc=t.ppf(1-alpha/2, df=ddl)\n",
    "print(\"T critique=\",round(Tc,3) )  \n",
    "if abs(T0)<=Tc:\n",
    "    print(\"Ho est acceptée\")\n",
    "else:\n",
    "    print(\"Ho est rejetée\")"
   ]
  },
  {
   "cell_type": "code",
   "execution_count": null,
   "metadata": {},
   "outputs": [],
   "source": []
  },
  {
   "cell_type": "code",
   "execution_count": null,
   "metadata": {},
   "outputs": [],
   "source": []
  },
  {
   "cell_type": "code",
   "execution_count": null,
   "metadata": {},
   "outputs": [],
   "source": []
  }
 ],
 "metadata": {
  "kernelspec": {
   "display_name": "Python 3 (ipykernel)",
   "language": "python",
   "name": "python3"
  },
  "language_info": {
   "codemirror_mode": {
    "name": "ipython",
    "version": 3
   },
   "file_extension": ".py",
   "mimetype": "text/x-python",
   "name": "python",
   "nbconvert_exporter": "python",
   "pygments_lexer": "ipython3",
   "version": "3.10.9"
  }
 },
 "nbformat": 4,
 "nbformat_minor": 4
}
