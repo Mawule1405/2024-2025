{
 "cells": [
  {
   "cell_type": "markdown",
   "id": "11cffc42",
   "metadata": {},
   "source": [
    "# 1. Régression Linéaire Simple\n"
   ]
  },
  {
   "cell_type": "code",
   "execution_count": null,
   "id": "d01f650c",
   "metadata": {},
   "outputs": [],
   "source": [
    "from sklearn.linear_model import LinearRegression\n",
    "from sklearn.metrics import mean_squared_error, r2_score\n",
    "import numpy as np\n",
    "import pandas as  pd\n",
    "import matplotlib.pyplot as plt"
   ]
  },
  {
   "cell_type": "code",
   "execution_count": null,
   "id": "5537e93e",
   "metadata": {},
   "outputs": [],
   "source": [
    "# Exemple de données d'entrée et de variable cible\n",
    "# X = np.array([[1], [2], [3], [4], [5]])\n",
    "# y = np.array([2, 4, 7, 8, 10])\n",
    "df=pd.read_excel(\"Données/application.xlsx\", sheet_name='regtd')\n",
    "df\n"
   ]
  },
  {
   "cell_type": "code",
   "execution_count": null,
   "id": "43fe8798",
   "metadata": {},
   "outputs": [],
   "source": [
    "X=df.drop('B', axis=1)\n",
    "y=df.B\n",
    "# Création du modèle de régression linéaire\n",
    "model = LinearRegression()\n",
    "# Entraînement du modèle sur les données\n",
    "model.fit(X, y)\n",
    "# Performence ou précision du modèle\n",
    "R=model.score(X,y)\n",
    "# Prédiction des valeurs théorique\n",
    "y_pred=model.predict(X)\n",
    "print(\"R²=\",round(R,3))"
   ]
  },
  {
   "cell_type": "code",
   "execution_count": null,
   "id": "3b8bdaab",
   "metadata": {},
   "outputs": [],
   "source": [
    "print(\"MSE=\",round(mean_squared_error(y_pred,y),2), \"\\nR² réel=\",round(R,4),\"\\nr=\",round(np.sqrt(R),3))"
   ]
  },
  {
   "cell_type": "code",
   "execution_count": null,
   "id": "15de11dc",
   "metadata": {},
   "outputs": [],
   "source": [
    "a=model.coef_[0]\n",
    "b=model.intercept_\n",
    "print(\"a=\",a, \"\\nb=\",b, \"\\nY=\", round(a,3),\"X\", round(b,3))"
   ]
  },
  {
   "cell_type": "code",
   "execution_count": null,
   "id": "6f958dc3",
   "metadata": {},
   "outputs": [],
   "source": [
    "plt.scatter(X,y)\n",
    "plt.plot(X, y_pred, c='r')\n",
    "plt.show()"
   ]
  },
  {
   "cell_type": "code",
   "execution_count": null,
   "id": "ad193ae1",
   "metadata": {},
   "outputs": [],
   "source": [
    "x=int(input(\"Donnez un entier:\"))\n",
    "f=a*x+b\n",
    "print(\"pour x=\", x, \"Y vaut:\",round(f,3))"
   ]
  },
  {
   "cell_type": "code",
   "execution_count": null,
   "id": "8abf5695",
   "metadata": {},
   "outputs": [],
   "source": []
  },
  {
   "cell_type": "markdown",
   "id": "48722e28",
   "metadata": {},
   "source": [
    "# 2. Régression Linéaire Mulatiple"
   ]
  },
  {
   "cell_type": "code",
   "execution_count": null,
   "id": "991676ce",
   "metadata": {},
   "outputs": [],
   "source": [
    "from sklearn.linear_model import LinearRegression\n",
    "from sklearn.metrics import mean_squared_error, r2_score\n",
    "import numpy as np\n",
    "import pandas as pd"
   ]
  },
  {
   "cell_type": "code",
   "execution_count": null,
   "id": "13b7ef3d",
   "metadata": {},
   "outputs": [],
   "source": [
    "# Exemple de données d'entrée avec plusieurs variables\n",
    "X = np.array([[1, 2], [2, 3], [3, 5], [4,4], [5, 6]])\n",
    "y = np.array([7, 10, 16, 14, 19])\n",
    "\n",
    "# Création du modèle de régression linéaire\n",
    "model = LinearRegression()\n",
    "\n",
    "# Entraînement du modèle sur les données\n",
    "model.fit(X, y)\n",
    "y_pred=model.predict(X)\n",
    "# Prédiction pour de nouvelles données\n",
    "new_X = np.array([[6, 12], [7, 14]])\n",
    "prev = model.predict(new_X)\n",
    "print(prev)\n"
   ]
  },
  {
   "cell_type": "code",
   "execution_count": null,
   "id": "8b0d3903",
   "metadata": {},
   "outputs": [],
   "source": [
    "print(\"Les coefficients=\",model.coef_,\n",
    "      \"\\nb=\",round(model.intercept_,4),\n",
    "      \"\\nR2=\",round(r2_score(y, y_pred),4),\n",
    "      \"\\nMSE=\",round(mean_squared_error(y, y_pred),4),\n",
    "     \"\\nPrécision du model=\",round(model.score(X,y),4))"
   ]
  },
  {
   "cell_type": "code",
   "execution_count": null,
   "id": "0a468d7b",
   "metadata": {},
   "outputs": [],
   "source": [
    "N=np.array([[1,1, 2], [1,2, 3], [1,3, 5], [1,4,4], [1,5, 6]])\n",
    "N"
   ]
  },
  {
   "cell_type": "code",
   "execution_count": null,
   "id": "81473b30",
   "metadata": {},
   "outputs": [],
   "source": [
    "Nt=N.T\n",
    "Nt"
   ]
  },
  {
   "cell_type": "code",
   "execution_count": null,
   "id": "2d791e9f",
   "metadata": {},
   "outputs": [],
   "source": [
    "Mvc=Nt@N\n",
    "Mvc"
   ]
  },
  {
   "cell_type": "code",
   "execution_count": null,
   "id": "2d815d7b",
   "metadata": {},
   "outputs": [],
   "source": [
    "Inverse=np.linalg.inv(Mvc)\n",
    "Inverse"
   ]
  },
  {
   "cell_type": "code",
   "execution_count": null,
   "id": "ecd51d89",
   "metadata": {},
   "outputs": [],
   "source": [
    "Nt"
   ]
  },
  {
   "cell_type": "code",
   "execution_count": null,
   "id": "bfbbb31a",
   "metadata": {},
   "outputs": [],
   "source": [
    "y"
   ]
  },
  {
   "cell_type": "code",
   "execution_count": null,
   "id": "9490890b",
   "metadata": {},
   "outputs": [],
   "source": [
    "Xty=Nt@y\n",
    "Xty"
   ]
  },
  {
   "cell_type": "code",
   "execution_count": null,
   "id": "8c1f9d55",
   "metadata": {},
   "outputs": [],
   "source": [
    "b,a1,a2=Inverse@Xty"
   ]
  },
  {
   "cell_type": "code",
   "execution_count": null,
   "id": "d3fb6fc6",
   "metadata": {},
   "outputs": [],
   "source": [
    "b"
   ]
  },
  {
   "cell_type": "code",
   "execution_count": null,
   "id": "bac1a085",
   "metadata": {},
   "outputs": [],
   "source": [
    "a1"
   ]
  },
  {
   "cell_type": "code",
   "execution_count": null,
   "id": "0bd3d17a",
   "metadata": {},
   "outputs": [],
   "source": [
    "a2"
   ]
  },
  {
   "cell_type": "code",
   "execution_count": null,
   "id": "64dedbb3",
   "metadata": {},
   "outputs": [],
   "source": [
    "print(\"Y=\", round(a1,3),\".X1+\",round(a2,3),\".X2 +\", round(b,2), sep=\"\")"
   ]
  },
  {
   "cell_type": "markdown",
   "id": "df0fc24d",
   "metadata": {},
   "source": [
    "# Avec Pandas"
   ]
  },
  {
   "cell_type": "code",
   "execution_count": null,
   "id": "692eb1f2",
   "metadata": {},
   "outputs": [],
   "source": [
    "df=pd.read_excel('regm.xlsx')\n",
    "df"
   ]
  },
  {
   "cell_type": "code",
   "execution_count": null,
   "id": "fef328bf",
   "metadata": {},
   "outputs": [],
   "source": [
    "D=df.drop('Y', axis=1)\n",
    "D"
   ]
  },
  {
   "cell_type": "code",
   "execution_count": null,
   "id": "89fd297a",
   "metadata": {},
   "outputs": [],
   "source": [
    "y=df['Y']\n",
    "y"
   ]
  },
  {
   "cell_type": "code",
   "execution_count": null,
   "id": "cfc97753",
   "metadata": {},
   "outputs": [],
   "source": [
    "model = LinearRegression()\n",
    "\n",
    "# Entraînement du modèle sur les données\n",
    "model.fit(D, y)\n",
    "y_pred=model.predict(D)\n"
   ]
  },
  {
   "cell_type": "code",
   "execution_count": null,
   "id": "726fab49",
   "metadata": {},
   "outputs": [],
   "source": [
    "print(\"Les coefficients=\",model.coef_,\n",
    "      \"\\nb=\",round(model.intercept_,4),\n",
    "      \"\\nR2=\",round(r2_score(y, y_pred),4),\n",
    "      \"\\nMSE=\",round(mean_squared_error(y, y_pred),4),\n",
    "     \"\\nPrécision du model=\",round(model.score(D,y),4))"
   ]
  },
  {
   "cell_type": "code",
   "execution_count": null,
   "id": "96b4ace8",
   "metadata": {},
   "outputs": [],
   "source": [
    "# Prédiction pour de nouvelles données\n",
    "new_X = np.array([[6], [12], [7], [14]])\n",
    "prev = model.predict(new_X.reshape(-1,1))\n",
    "print(prev)"
   ]
  },
  {
   "cell_type": "markdown",
   "id": "4eadc514",
   "metadata": {},
   "source": [
    "# 3. Régression Polynomiale"
   ]
  },
  {
   "cell_type": "code",
   "execution_count": null,
   "id": "f2ee8035",
   "metadata": {},
   "outputs": [],
   "source": [
    "from sklearn.preprocessing import PolynomialFeatures\n",
    "from sklearn.linear_model import LinearRegression\n",
    "from sklearn.metrics import mean_squared_error\n",
    "import numpy as np\n",
    "import matplotlib.pyplot as plt"
   ]
  },
  {
   "cell_type": "code",
   "execution_count": null,
   "id": "92e336b8",
   "metadata": {},
   "outputs": [],
   "source": [
    "# Exemple de données d'entrée et de variable cible\n",
    "X = np.array([[1], [2], [3], [4], [5]])\n",
    "y = np.array([2.5, 4, 6, 6, 10])\n",
    "\n",
    "# Transformation des caractéristiques en polynômes\n",
    "poly_features = PolynomialFeatures(degree=2)\n",
    "X_poly = poly_features.fit_transform(X)\n",
    "# Création du modèle de régression linéaire\n",
    "model = LinearRegression()\n",
    "# Entraînement du modèle sur les données transformées\n",
    "model.fit(X_poly, y)\n",
    "print(model.score(X_poly,y))\n",
    "y_pred= model.predict(X_poly)"
   ]
  },
  {
   "cell_type": "code",
   "execution_count": null,
   "id": "6e22ee01",
   "metadata": {},
   "outputs": [],
   "source": [
    "C=model.coef_\n",
    "print(\"Les coefficients\")\n",
    "for i in range(C.size):\n",
    "    print(round(C[i],3))\n",
    "print(\"L'ordonnée à l'origine:\",model.intercept_)\n",
    "print(\"MSE=\",round(mean_squared_error(y_pred,y),4))\n",
    "print(\"R²=\", round(model.score(X_poly,y),3))    "
   ]
  },
  {
   "cell_type": "code",
   "execution_count": null,
   "id": "140b9a8b",
   "metadata": {},
   "outputs": [],
   "source": [
    "y_pred"
   ]
  },
  {
   "cell_type": "code",
   "execution_count": null,
   "id": "8c49603d",
   "metadata": {},
   "outputs": [],
   "source": [
    "for i in range(y_pred.size):\n",
    "    print(round(y_pred[i],3))"
   ]
  },
  {
   "cell_type": "code",
   "execution_count": null,
   "id": "6650d269",
   "metadata": {},
   "outputs": [],
   "source": [
    "# Prédiction pour de nouvelles données\n",
    "new_X = np.array([[6], [7], [8]])\n",
    "new_X_poly = poly_features.transform(new_X)\n",
    "predictions = model.predict(new_X_poly)\n",
    "print(predictions)"
   ]
  },
  {
   "cell_type": "code",
   "execution_count": null,
   "id": "6e022eca",
   "metadata": {},
   "outputs": [],
   "source": [
    "plt.scatter(X,y)\n",
    "plt.plot(X,y_pred, c='r')"
   ]
  },
  {
   "cell_type": "code",
   "execution_count": null,
   "id": "91f09cd8",
   "metadata": {},
   "outputs": [],
   "source": [
    "X_poly"
   ]
  },
  {
   "cell_type": "code",
   "execution_count": null,
   "id": "8ceda2bc",
   "metadata": {},
   "outputs": [],
   "source": [
    "import numpy as np\n",
    "\n",
    "# Exemple de données d'entrée et de variable cible\n",
    "X = np.array([1, 2, 3, 4, 5])\n",
    "y = np.array([2.5, 4, 6, 6, 10])\n",
    "\n",
    "# Calcul des coefficients pour une régression polynomiale de degré n\n",
    "n = 3  # Degré du polynôme\n",
    "X_poly = np.vander(X, n + 1, increasing=True)\n",
    "coefficients = np.linalg.inv(X_poly.T.dot(X_poly)).dot(X_poly.T.dot(y))\n",
    "\n",
    "print(coefficients)"
   ]
  },
  {
   "cell_type": "code",
   "execution_count": null,
   "id": "90aa862c",
   "metadata": {},
   "outputs": [],
   "source": [
    "X_poly"
   ]
  },
  {
   "cell_type": "code",
   "execution_count": null,
   "id": "8b0efc49",
   "metadata": {},
   "outputs": [],
   "source": []
  }
 ],
 "metadata": {
  "kernelspec": {
   "display_name": "Python 3 (ipykernel)",
   "language": "python",
   "name": "python3"
  },
  "language_info": {
   "codemirror_mode": {
    "name": "ipython",
    "version": 3
   },
   "file_extension": ".py",
   "mimetype": "text/x-python",
   "name": "python",
   "nbconvert_exporter": "python",
   "pygments_lexer": "ipython3",
   "version": "3.10.9"
  }
 },
 "nbformat": 4,
 "nbformat_minor": 5
}
