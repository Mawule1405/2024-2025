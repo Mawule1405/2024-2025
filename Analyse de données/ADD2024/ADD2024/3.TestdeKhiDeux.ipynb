{
 "cells": [
  {
   "cell_type": "code",
   "execution_count": null,
   "id": "a84cd714",
   "metadata": {},
   "outputs": [],
   "source": [
    "import pandas as pd\n",
    "import scipy.stats as st\n",
    "from scipy.stats.distributions import chi2\n",
    "import numpy as np"
   ]
  },
  {
   "cell_type": "code",
   "execution_count": null,
   "id": "c1a59ce7",
   "metadata": {},
   "outputs": [],
   "source": [
    "kdeux= pd.read_excel(\"données/tdadd.xlsx\",index_col=0, sheet_name=\"exo8\")\n",
    "kdeux.head()"
   ]
  },
  {
   "cell_type": "code",
   "execution_count": null,
   "id": "786adb26",
   "metadata": {},
   "outputs": [],
   "source": [
    "K=kdeux.values\n",
    "K"
   ]
  },
  {
   "cell_type": "code",
   "execution_count": null,
   "id": "19c1e4de",
   "metadata": {},
   "outputs": [],
   "source": [
    "n=K.sum()\n",
    "n"
   ]
  },
  {
   "cell_type": "code",
   "execution_count": null,
   "id": "37d5947e",
   "metadata": {},
   "outputs": [],
   "source": [
    "ni=K.sum(axis=1).reshape(-1,1)\n",
    "ni"
   ]
  },
  {
   "cell_type": "code",
   "execution_count": null,
   "id": "486697cd",
   "metadata": {},
   "outputs": [],
   "source": [
    "nj=K.sum(axis=0)\n",
    "nj"
   ]
  },
  {
   "cell_type": "code",
   "execution_count": null,
   "id": "5e619c9e",
   "metadata": {},
   "outputs": [],
   "source": [
    "T=ni*nj/n\n",
    "print(np.round(T,3))"
   ]
  },
  {
   "cell_type": "code",
   "execution_count": null,
   "id": "7caaf0e9",
   "metadata": {},
   "outputs": [],
   "source": [
    "d=K**2/T\n",
    "d.sum()-n"
   ]
  },
  {
   "cell_type": "code",
   "execution_count": null,
   "id": "64b0fbf1",
   "metadata": {},
   "outputs": [],
   "source": [
    "d, p, ddl, tt = st.chi2_contingency(kdeux)\n",
    "print(\"d=\",round(d,3),\"\\np=\",round(p,3),\"\\nddl=\",ddl,\"\\nTableau théorique\\n\",np.round(tt,3))"
   ]
  },
  {
   "cell_type": "code",
   "execution_count": null,
   "id": "2f4753d8",
   "metadata": {},
   "outputs": [],
   "source": [
    "# calcul de Pvalue\n",
    "1-chi2.cdf(d,ddl)"
   ]
  },
  {
   "cell_type": "code",
   "execution_count": null,
   "id": "be81d232",
   "metadata": {},
   "outputs": [],
   "source": [
    "for e in tt:\n",
    "    for i in e:\n",
    "        print(round(i,3),end=\"\\t\\t\")\n",
    "    print(\"\\n\")"
   ]
  },
  {
   "cell_type": "code",
   "execution_count": null,
   "id": "c2b85a29",
   "metadata": {},
   "outputs": [],
   "source": [
    "alpha=float(input('Donnez le risque Alpha:'))\n",
    "D=chi2.ppf(1-alpha, df=ddl)\n",
    "\n",
    "print(\"d=\",round(d,3),\"\\nD=\",round(D,3))\n",
    "if d<=D:\n",
    "    print(\"H0 est acceptée\")\n",
    "else:\n",
    "    print(\"H1 est acceptée \")\n"
   ]
  },
  {
   "cell_type": "code",
   "execution_count": null,
   "id": "955e5f03",
   "metadata": {},
   "outputs": [],
   "source": [
    "def monkhideux(fichier, feuille, alpha):\n",
    "    kdeux= pd.read_excel(\"données/\"+ fichier + \".xlsx\",index_col=0, sheet_name=feuille)\n",
    "    print(\"\\n\\n\", kdeux)\n",
    "    d, p, ddl, tt = st.chi2_contingency(kdeux)\n",
    "    \n",
    "    print(\"\\n\\nd=\",round(d,2),\"\\np=\",round(p,3),\"\\nddl=\",ddl,\"\\n\\n\\nTableau théorique\\n\",np.round(tt,3))\n",
    "    D=chi2.ppf(1-alpha, df=ddl)\n",
    "    print(\"\\nDistance de Khideux petit d=\\n\")\n",
    "    print(\"d=\",round(d,3),\"\\nD=\",round(D,3),\"\\n\\n\")\n",
    "    if d<=D:\n",
    "        print(\"H0 est acceptée\")\n",
    "    else:\n",
    "        print(\"H1 est acceptée\")  \n",
    "\n",
    "    "
   ]
  },
  {
   "cell_type": "code",
   "execution_count": null,
   "id": "c10dba4f",
   "metadata": {},
   "outputs": [],
   "source": [
    " monkhideux('application', 'k2td1', 0.04)"
   ]
  },
  {
   "cell_type": "code",
   "execution_count": null,
   "id": "5d52891f",
   "metadata": {},
   "outputs": [],
   "source": [
    " monkhideux('application', 'Khideux4', 0.05)"
   ]
  },
  {
   "cell_type": "code",
   "execution_count": null,
   "id": "c75d4e70",
   "metadata": {},
   "outputs": [],
   "source": [
    "monkhideux('application', 'Khideux1', 0.05)"
   ]
  },
  {
   "cell_type": "code",
   "execution_count": null,
   "id": "19aee77d",
   "metadata": {},
   "outputs": [],
   "source": [
    "monkhideux('application', 'Khideux3', 0.03)"
   ]
  },
  {
   "cell_type": "code",
   "execution_count": null,
   "id": "9efb09cf",
   "metadata": {},
   "outputs": [],
   "source": [
    "print(\"Alpha\", end=\"\\t\")\n",
    "for j in [0.1,0.09,0.08,0.07,0.06,0.05,0.04,0.03,0.02,0.01]:\n",
    "     print(j, end=\"\\t\")\n",
    "\n",
    "print()\n",
    "print(\"\\t------------------------------------------------------------------------------\\n\")\n",
    "\n",
    "for i in range(1,31):\n",
    "    print(i, end=\"\\t\")\n",
    "    for j in [0.1,0.09,0.08,0.07,0.06,0.05,0.04,0.03,0.02,0.01]:\n",
    "       \n",
    "        print(round(chi2.ppf(1-j, df=i),3), end=\"\\t\")\n",
    "    print()\n"
   ]
  },
  {
   "cell_type": "code",
   "execution_count": null,
   "id": "82831527",
   "metadata": {},
   "outputs": [],
   "source": []
  }
 ],
 "metadata": {
  "kernelspec": {
   "display_name": "Python 3 (ipykernel)",
   "language": "python",
   "name": "python3"
  },
  "language_info": {
   "codemirror_mode": {
    "name": "ipython",
    "version": 3
   },
   "file_extension": ".py",
   "mimetype": "text/x-python",
   "name": "python",
   "nbconvert_exporter": "python",
   "pygments_lexer": "ipython3",
   "version": "3.10.9"
  }
 },
 "nbformat": 4,
 "nbformat_minor": 5
}
